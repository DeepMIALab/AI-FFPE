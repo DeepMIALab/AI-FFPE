{
 "cells": [
  {
   "cell_type": "code",
   "execution_count": 1,
   "id": "41ef1f00",
   "metadata": {
    "_cell_guid": "b1076dfc-b9ad-4769-8c92-a6c4dae69d19",
    "_uuid": "8f2839f25d086af736a60e9eeb907d3b93b6e0e5",
    "execution": {
     "iopub.execute_input": "2024-10-05T13:56:40.535035Z",
     "iopub.status.busy": "2024-10-05T13:56:40.534572Z",
     "iopub.status.idle": "2024-10-05T13:56:41.339259Z",
     "shell.execute_reply": "2024-10-05T13:56:41.338049Z"
    },
    "papermill": {
     "duration": 0.819608,
     "end_time": "2024-10-05T13:56:41.341475",
     "exception": false,
     "start_time": "2024-10-05T13:56:40.521867",
     "status": "completed"
    },
    "tags": []
   },
   "outputs": [
    {
     "name": "stdout",
     "output_type": "stream",
     "text": [
      "/kaggle/input/loan-approval-prediction/credit_risk_dataset.csv\n",
      "/kaggle/input/playground-series-s4e10/sample_submission.csv\n",
      "/kaggle/input/playground-series-s4e10/train.csv\n",
      "/kaggle/input/playground-series-s4e10/test.csv\n"
     ]
    }
   ],
   "source": [
    "# This Python 3 environment comes with many helpful analytics libraries installed\n",
    "# It is defined by the kaggle/python Docker image: https://github.com/kaggle/docker-python\n",
    "# For example, here's several helpful packages to load\n",
    "\n",
    "import numpy as np # linear algebra\n",
    "import pandas as pd # data processing, CSV file I/O (e.g. pd.read_csv)\n",
    "\n",
    "# Input data files are available in the read-only \"../input/\" directory\n",
    "# For example, running this (by clicking run or pressing Shift+Enter) will list all files under the input directory\n",
    "\n",
    "import os\n",
    "for dirname, _, filenames in os.walk('/kaggle/input'):\n",
    "    for filename in filenames:\n",
    "        print(os.path.join(dirname, filename))\n",
    "\n",
    "# You can write up to 20GB to the current directory (/kaggle/working/) that gets preserved as output when you create a version using \"Save & Run All\" \n",
    "# You can also write temporary files to /kaggle/temp/, but they won't be saved outside of the current session"
   ]
  },
  {
   "cell_type": "code",
   "execution_count": 2,
   "id": "9c64448b",
   "metadata": {
    "execution": {
     "iopub.execute_input": "2024-10-05T13:56:41.364599Z",
     "iopub.status.busy": "2024-10-05T13:56:41.364111Z",
     "iopub.status.idle": "2024-10-05T13:56:49.119977Z",
     "shell.execute_reply": "2024-10-05T13:56:49.119049Z"
    },
    "papermill": {
     "duration": 7.770295,
     "end_time": "2024-10-05T13:56:49.122586",
     "exception": false,
     "start_time": "2024-10-05T13:56:41.352291",
     "status": "completed"
    },
    "tags": []
   },
   "outputs": [],
   "source": [
    "import warnings\n",
    "warnings.filterwarnings('ignore')\n",
    "import pandas as pd\n",
    "import numpy as np\n",
    "import matplotlib.pyplot as plt\n",
    "import seaborn as sns\n",
    "from datetime import timedelta\n",
    "from sklearn.metrics import f1_score, roc_auc_score, average_precision_score, precision_score, recall_score, jaccard_score, roc_curve, RocCurveDisplay, log_loss, mean_squared_error\n",
    "from sklearn.model_selection import KFold, StratifiedKFold, train_test_split, GridSearchCV, RepeatedStratifiedKFold, cross_val_score, cross_val_predict, cross_validate, RepeatedKFold\n",
    "from lightgbm import LGBMRegressor \n",
    "from xgboost import XGBRegressor ,XGBClassifier\n",
    "import xgboost as xgb\n",
    "from catboost import CatBoostRegressor, Pool\n",
    "import catboost as cat\n",
    "import lightgbm as lgb\n",
    "from sklearn.preprocessing import StandardScaler, LabelEncoder\n",
    "import shap\n",
    "from imblearn.over_sampling import SMOTE"
   ]
  },
  {
   "cell_type": "code",
   "execution_count": 3,
   "id": "a96937d7",
   "metadata": {
    "execution": {
     "iopub.execute_input": "2024-10-05T13:56:49.146342Z",
     "iopub.status.busy": "2024-10-05T13:56:49.145724Z",
     "iopub.status.idle": "2024-10-05T13:56:49.488107Z",
     "shell.execute_reply": "2024-10-05T13:56:49.487195Z"
    },
    "papermill": {
     "duration": 0.356698,
     "end_time": "2024-10-05T13:56:49.490668",
     "exception": false,
     "start_time": "2024-10-05T13:56:49.133970",
     "status": "completed"
    },
    "tags": []
   },
   "outputs": [],
   "source": [
    "train = pd.read_csv(\"/kaggle/input/playground-series-s4e10/train.csv\")\n",
    "test = pd.read_csv(\"/kaggle/input/playground-series-s4e10/test.csv\")\n",
    "sub=pd.read_csv(\"/kaggle/input/playground-series-s4e10/sample_submission.csv\")\n",
    "original = pd.read_csv('/kaggle/input/loan-approval-prediction/credit_risk_dataset.csv')"
   ]
  },
  {
   "cell_type": "code",
   "execution_count": 4,
   "id": "8d80e765",
   "metadata": {
    "execution": {
     "iopub.execute_input": "2024-10-05T13:56:49.513174Z",
     "iopub.status.busy": "2024-10-05T13:56:49.512788Z",
     "iopub.status.idle": "2024-10-05T13:56:49.569438Z",
     "shell.execute_reply": "2024-10-05T13:56:49.568563Z"
    },
    "papermill": {
     "duration": 0.07059,
     "end_time": "2024-10-05T13:56:49.571847",
     "exception": false,
     "start_time": "2024-10-05T13:56:49.501257",
     "status": "completed"
    },
    "tags": []
   },
   "outputs": [],
   "source": [
    "sum(original.duplicated())\n",
    "original=original.drop_duplicates()"
   ]
  },
  {
   "cell_type": "code",
   "execution_count": 5,
   "id": "a837d043",
   "metadata": {
    "execution": {
     "iopub.execute_input": "2024-10-05T13:56:49.594771Z",
     "iopub.status.busy": "2024-10-05T13:56:49.594133Z",
     "iopub.status.idle": "2024-10-05T13:56:49.607506Z",
     "shell.execute_reply": "2024-10-05T13:56:49.606480Z"
    },
    "papermill": {
     "duration": 0.02682,
     "end_time": "2024-10-05T13:56:49.609871",
     "exception": false,
     "start_time": "2024-10-05T13:56:49.583051",
     "status": "completed"
    },
    "tags": []
   },
   "outputs": [],
   "source": [
    "train = train.drop(columns=['id'], axis=1)\n",
    "original =original[train.columns]"
   ]
  },
  {
   "cell_type": "code",
   "execution_count": 6,
   "id": "6956904a",
   "metadata": {
    "execution": {
     "iopub.execute_input": "2024-10-05T13:56:49.633222Z",
     "iopub.status.busy": "2024-10-05T13:56:49.632407Z",
     "iopub.status.idle": "2024-10-05T13:56:49.673130Z",
     "shell.execute_reply": "2024-10-05T13:56:49.671926Z"
    },
    "papermill": {
     "duration": 0.054779,
     "end_time": "2024-10-05T13:56:49.675525",
     "exception": false,
     "start_time": "2024-10-05T13:56:49.620746",
     "status": "completed"
    },
    "tags": []
   },
   "outputs": [
    {
     "name": "stdout",
     "output_type": "stream",
     "text": [
      "<class 'pandas.core.frame.DataFrame'>\n",
      "RangeIndex: 58645 entries, 0 to 58644\n",
      "Data columns (total 12 columns):\n",
      " #   Column                      Non-Null Count  Dtype  \n",
      "---  ------                      --------------  -----  \n",
      " 0   person_age                  58645 non-null  int64  \n",
      " 1   person_income               58645 non-null  int64  \n",
      " 2   person_home_ownership       58645 non-null  object \n",
      " 3   person_emp_length           58645 non-null  float64\n",
      " 4   loan_intent                 58645 non-null  object \n",
      " 5   loan_grade                  58645 non-null  object \n",
      " 6   loan_amnt                   58645 non-null  int64  \n",
      " 7   loan_int_rate               58645 non-null  float64\n",
      " 8   loan_percent_income         58645 non-null  float64\n",
      " 9   cb_person_default_on_file   58645 non-null  object \n",
      " 10  cb_person_cred_hist_length  58645 non-null  int64  \n",
      " 11  loan_status                 58645 non-null  int64  \n",
      "dtypes: float64(3), int64(5), object(4)\n",
      "memory usage: 5.4+ MB\n"
     ]
    }
   ],
   "source": [
    "train.info()"
   ]
  },
  {
   "cell_type": "code",
   "execution_count": 7,
   "id": "94e35902",
   "metadata": {
    "execution": {
     "iopub.execute_input": "2024-10-05T13:56:49.699050Z",
     "iopub.status.busy": "2024-10-05T13:56:49.698630Z",
     "iopub.status.idle": "2024-10-05T13:56:49.723529Z",
     "shell.execute_reply": "2024-10-05T13:56:49.722439Z"
    },
    "papermill": {
     "duration": 0.039239,
     "end_time": "2024-10-05T13:56:49.725860",
     "exception": false,
     "start_time": "2024-10-05T13:56:49.686621",
     "status": "completed"
    },
    "tags": []
   },
   "outputs": [
    {
     "name": "stdout",
     "output_type": "stream",
     "text": [
      "<class 'pandas.core.frame.DataFrame'>\n",
      "Index: 32416 entries, 0 to 32580\n",
      "Data columns (total 12 columns):\n",
      " #   Column                      Non-Null Count  Dtype  \n",
      "---  ------                      --------------  -----  \n",
      " 0   person_age                  32416 non-null  int64  \n",
      " 1   person_income               32416 non-null  int64  \n",
      " 2   person_home_ownership       32416 non-null  object \n",
      " 3   person_emp_length           31529 non-null  float64\n",
      " 4   loan_intent                 32416 non-null  object \n",
      " 5   loan_grade                  32416 non-null  object \n",
      " 6   loan_amnt                   32416 non-null  int64  \n",
      " 7   loan_int_rate               29321 non-null  float64\n",
      " 8   loan_percent_income         32416 non-null  float64\n",
      " 9   cb_person_default_on_file   32416 non-null  object \n",
      " 10  cb_person_cred_hist_length  32416 non-null  int64  \n",
      " 11  loan_status                 32416 non-null  int64  \n",
      "dtypes: float64(3), int64(5), object(4)\n",
      "memory usage: 3.2+ MB\n"
     ]
    }
   ],
   "source": [
    "original.info()"
   ]
  },
  {
   "cell_type": "code",
   "execution_count": 8,
   "id": "52452bf4",
   "metadata": {
    "execution": {
     "iopub.execute_input": "2024-10-05T13:56:49.749212Z",
     "iopub.status.busy": "2024-10-05T13:56:49.748849Z",
     "iopub.status.idle": "2024-10-05T13:56:49.755014Z",
     "shell.execute_reply": "2024-10-05T13:56:49.754250Z"
    },
    "papermill": {
     "duration": 0.020273,
     "end_time": "2024-10-05T13:56:49.757264",
     "exception": false,
     "start_time": "2024-10-05T13:56:49.736991",
     "status": "completed"
    },
    "tags": []
   },
   "outputs": [],
   "source": [
    "original['loan_int_rate'] = original['loan_int_rate'].fillna(0)\n",
    "original['person_emp_length'] = original['person_emp_length'].fillna(0)"
   ]
  },
  {
   "cell_type": "code",
   "execution_count": 9,
   "id": "cc24dc3b",
   "metadata": {
    "execution": {
     "iopub.execute_input": "2024-10-05T13:56:49.780697Z",
     "iopub.status.busy": "2024-10-05T13:56:49.780363Z",
     "iopub.status.idle": "2024-10-05T13:56:49.794192Z",
     "shell.execute_reply": "2024-10-05T13:56:49.793391Z"
    },
    "papermill": {
     "duration": 0.02819,
     "end_time": "2024-10-05T13:56:49.796399",
     "exception": false,
     "start_time": "2024-10-05T13:56:49.768209",
     "status": "completed"
    },
    "tags": []
   },
   "outputs": [],
   "source": [
    "train = pd.concat([train, original])"
   ]
  },
  {
   "cell_type": "code",
   "execution_count": null,
   "id": "13dca11e",
   "metadata": {
    "papermill": {
     "duration": 0.010316,
     "end_time": "2024-10-05T13:56:49.817277",
     "exception": false,
     "start_time": "2024-10-05T13:56:49.806961",
     "status": "completed"
    },
    "tags": []
   },
   "outputs": [],
   "source": []
  },
  {
   "cell_type": "code",
   "execution_count": 10,
   "id": "0db0e912",
   "metadata": {
    "execution": {
     "iopub.execute_input": "2024-10-05T13:56:49.839868Z",
     "iopub.status.busy": "2024-10-05T13:56:49.839500Z",
     "iopub.status.idle": "2024-10-05T13:56:49.907103Z",
     "shell.execute_reply": "2024-10-05T13:56:49.906077Z"
    },
    "papermill": {
     "duration": 0.081529,
     "end_time": "2024-10-05T13:56:49.909453",
     "exception": false,
     "start_time": "2024-10-05T13:56:49.827924",
     "status": "completed"
    },
    "tags": []
   },
   "outputs": [
    {
     "data": {
      "text/plain": [
       "0"
      ]
     },
     "execution_count": 10,
     "metadata": {},
     "output_type": "execute_result"
    }
   ],
   "source": [
    "sum(train.duplicated())"
   ]
  },
  {
   "cell_type": "code",
   "execution_count": 11,
   "id": "2a2f144a",
   "metadata": {
    "execution": {
     "iopub.execute_input": "2024-10-05T13:56:49.933039Z",
     "iopub.status.busy": "2024-10-05T13:56:49.932324Z",
     "iopub.status.idle": "2024-10-05T13:56:49.948440Z",
     "shell.execute_reply": "2024-10-05T13:56:49.947432Z"
    },
    "papermill": {
     "duration": 0.030176,
     "end_time": "2024-10-05T13:56:49.950638",
     "exception": false,
     "start_time": "2024-10-05T13:56:49.920462",
     "status": "completed"
    },
    "tags": []
   },
   "outputs": [
    {
     "data": {
      "text/plain": [
       "count    9.106100e+04\n",
       "mean     6.477432e+04\n",
       "std      4.792286e+04\n",
       "min      4.000000e+03\n",
       "25%      4.000000e+04\n",
       "50%      5.700000e+04\n",
       "75%      7.800000e+04\n",
       "max      6.000000e+06\n",
       "Name: person_income, dtype: float64"
      ]
     },
     "execution_count": 11,
     "metadata": {},
     "output_type": "execute_result"
    }
   ],
   "source": [
    "train.head()\n",
    "train.person_income.describe()"
   ]
  },
  {
   "cell_type": "code",
   "execution_count": 12,
   "id": "d355d075",
   "metadata": {
    "execution": {
     "iopub.execute_input": "2024-10-05T13:56:49.973829Z",
     "iopub.status.busy": "2024-10-05T13:56:49.973514Z",
     "iopub.status.idle": "2024-10-05T13:56:50.044768Z",
     "shell.execute_reply": "2024-10-05T13:56:50.043770Z"
    },
    "papermill": {
     "duration": 0.085533,
     "end_time": "2024-10-05T13:56:50.047009",
     "exception": false,
     "start_time": "2024-10-05T13:56:49.961476",
     "status": "completed"
    },
    "tags": []
   },
   "outputs": [
    {
     "data": {
      "text/plain": [
       "1"
      ]
     },
     "execution_count": 12,
     "metadata": {},
     "output_type": "execute_result"
    }
   ],
   "source": [
    "test_v2 = test.drop(columns='id', axis=1)\n",
    "original_v2 = original.drop(columns='loan_status', axis=1)\n",
    "original_test = pd.concat([test_v2, original_v2])\n",
    "sum(original_test.duplicated())\n"
   ]
  },
  {
   "cell_type": "code",
   "execution_count": 13,
   "id": "42fed0dc",
   "metadata": {
    "execution": {
     "iopub.execute_input": "2024-10-05T13:56:50.070698Z",
     "iopub.status.busy": "2024-10-05T13:56:50.070337Z",
     "iopub.status.idle": "2024-10-05T13:56:50.124461Z",
     "shell.execute_reply": "2024-10-05T13:56:50.123464Z"
    },
    "papermill": {
     "duration": 0.068305,
     "end_time": "2024-10-05T13:56:50.126628",
     "exception": false,
     "start_time": "2024-10-05T13:56:50.058323",
     "status": "completed"
    },
    "tags": []
   },
   "outputs": [
    {
     "data": {
      "text/html": [
       "<div>\n",
       "<style scoped>\n",
       "    .dataframe tbody tr th:only-of-type {\n",
       "        vertical-align: middle;\n",
       "    }\n",
       "\n",
       "    .dataframe tbody tr th {\n",
       "        vertical-align: top;\n",
       "    }\n",
       "\n",
       "    .dataframe thead th {\n",
       "        text-align: right;\n",
       "    }\n",
       "</style>\n",
       "<table border=\"1\" class=\"dataframe\">\n",
       "  <thead>\n",
       "    <tr style=\"text-align: right;\">\n",
       "      <th></th>\n",
       "      <th>person_age</th>\n",
       "      <th>person_income</th>\n",
       "      <th>person_home_ownership</th>\n",
       "      <th>person_emp_length</th>\n",
       "      <th>loan_intent</th>\n",
       "      <th>loan_grade</th>\n",
       "      <th>loan_amnt</th>\n",
       "      <th>loan_int_rate</th>\n",
       "      <th>loan_percent_income</th>\n",
       "      <th>cb_person_default_on_file</th>\n",
       "      <th>cb_person_cred_hist_length</th>\n",
       "    </tr>\n",
       "  </thead>\n",
       "  <tbody>\n",
       "    <tr>\n",
       "      <th>2845</th>\n",
       "      <td>23</td>\n",
       "      <td>60000</td>\n",
       "      <td>RENT</td>\n",
       "      <td>1.0</td>\n",
       "      <td>DEBTCONSOLIDATION</td>\n",
       "      <td>A</td>\n",
       "      <td>3000</td>\n",
       "      <td>7.51</td>\n",
       "      <td>0.05</td>\n",
       "      <td>N</td>\n",
       "      <td>2</td>\n",
       "    </tr>\n",
       "  </tbody>\n",
       "</table>\n",
       "</div>"
      ],
      "text/plain": [
       "      person_age  person_income person_home_ownership  person_emp_length  \\\n",
       "2845          23          60000                  RENT                1.0   \n",
       "\n",
       "            loan_intent loan_grade  loan_amnt  loan_int_rate  \\\n",
       "2845  DEBTCONSOLIDATION          A       3000           7.51   \n",
       "\n",
       "      loan_percent_income cb_person_default_on_file  \\\n",
       "2845                 0.05                         N   \n",
       "\n",
       "      cb_person_cred_hist_length  \n",
       "2845                           2  "
      ]
     },
     "execution_count": 13,
     "metadata": {},
     "output_type": "execute_result"
    }
   ],
   "source": [
    "original_test[original_test.duplicated()]"
   ]
  },
  {
   "cell_type": "code",
   "execution_count": 14,
   "id": "9709c481",
   "metadata": {
    "execution": {
     "iopub.execute_input": "2024-10-05T13:56:50.151227Z",
     "iopub.status.busy": "2024-10-05T13:56:50.150639Z",
     "iopub.status.idle": "2024-10-05T13:56:50.200055Z",
     "shell.execute_reply": "2024-10-05T13:56:50.198965Z"
    },
    "papermill": {
     "duration": 0.063958,
     "end_time": "2024-10-05T13:56:50.202301",
     "exception": false,
     "start_time": "2024-10-05T13:56:50.138343",
     "status": "completed"
    },
    "tags": []
   },
   "outputs": [
    {
     "name": "stdout",
     "output_type": "stream",
     "text": [
      "<class 'pandas.core.frame.DataFrame'>\n",
      "Index: 91061 entries, 0 to 32580\n",
      "Data columns (total 12 columns):\n",
      " #   Column                      Non-Null Count  Dtype  \n",
      "---  ------                      --------------  -----  \n",
      " 0   person_age                  91061 non-null  int64  \n",
      " 1   person_income               91061 non-null  int64  \n",
      " 2   person_home_ownership       91061 non-null  object \n",
      " 3   person_emp_length           91061 non-null  float64\n",
      " 4   loan_intent                 91061 non-null  object \n",
      " 5   loan_grade                  91061 non-null  object \n",
      " 6   loan_amnt                   91061 non-null  int64  \n",
      " 7   loan_int_rate               91061 non-null  float64\n",
      " 8   loan_percent_income         91061 non-null  float64\n",
      " 9   cb_person_default_on_file   91061 non-null  object \n",
      " 10  cb_person_cred_hist_length  91061 non-null  int64  \n",
      " 11  loan_status                 91061 non-null  int64  \n",
      "dtypes: float64(3), int64(5), object(4)\n",
      "memory usage: 9.0+ MB\n"
     ]
    }
   ],
   "source": [
    "train.info()"
   ]
  },
  {
   "cell_type": "code",
   "execution_count": 15,
   "id": "44cb23e0",
   "metadata": {
    "execution": {
     "iopub.execute_input": "2024-10-05T13:56:50.226552Z",
     "iopub.status.busy": "2024-10-05T13:56:50.226217Z",
     "iopub.status.idle": "2024-10-05T13:56:50.370852Z",
     "shell.execute_reply": "2024-10-05T13:56:50.369652Z"
    },
    "papermill": {
     "duration": 0.159274,
     "end_time": "2024-10-05T13:56:50.373276",
     "exception": false,
     "start_time": "2024-10-05T13:56:50.214002",
     "status": "completed"
    },
    "tags": []
   },
   "outputs": [
    {
     "name": "stdout",
     "output_type": "stream",
     "text": [
      "0\n"
     ]
    }
   ],
   "source": [
    "print(sum(train.duplicated())) #check for duplicates\n",
    "train.drop_duplicates(inplace=True) #Drop dublicates"
   ]
  },
  {
   "cell_type": "code",
   "execution_count": 16,
   "id": "f89de6aa",
   "metadata": {
    "execution": {
     "iopub.execute_input": "2024-10-05T13:56:50.398361Z",
     "iopub.status.busy": "2024-10-05T13:56:50.397927Z",
     "iopub.status.idle": "2024-10-05T13:56:50.405783Z",
     "shell.execute_reply": "2024-10-05T13:56:50.404947Z"
    },
    "papermill": {
     "duration": 0.022822,
     "end_time": "2024-10-05T13:56:50.407967",
     "exception": false,
     "start_time": "2024-10-05T13:56:50.385145",
     "status": "completed"
    },
    "tags": []
   },
   "outputs": [],
   "source": [
    "train['person_income_loan_amnt_ratio'] = train['person_income'] / train['loan_amnt']\n",
    "test['person_income_loan_amnt_ratio'] = test['person_income'] / test['loan_amnt']"
   ]
  },
  {
   "cell_type": "code",
   "execution_count": 17,
   "id": "dd02a7a0",
   "metadata": {
    "execution": {
     "iopub.execute_input": "2024-10-05T13:56:50.432071Z",
     "iopub.status.busy": "2024-10-05T13:56:50.431737Z",
     "iopub.status.idle": "2024-10-05T13:56:50.479525Z",
     "shell.execute_reply": "2024-10-05T13:56:50.478581Z"
    },
    "papermill": {
     "duration": 0.062557,
     "end_time": "2024-10-05T13:56:50.481907",
     "exception": false,
     "start_time": "2024-10-05T13:56:50.419350",
     "status": "completed"
    },
    "tags": []
   },
   "outputs": [
    {
     "data": {
      "text/plain": [
       "person_age                       0.0\n",
       "person_income                    0.0\n",
       "person_home_ownership            0.0\n",
       "person_emp_length                0.0\n",
       "loan_intent                      0.0\n",
       "loan_grade                       0.0\n",
       "loan_amnt                        0.0\n",
       "loan_int_rate                    0.0\n",
       "loan_percent_income              0.0\n",
       "cb_person_default_on_file        0.0\n",
       "cb_person_cred_hist_length       0.0\n",
       "loan_status                      0.0\n",
       "person_income_loan_amnt_ratio    0.0\n",
       "dtype: float64"
      ]
     },
     "execution_count": 17,
     "metadata": {},
     "output_type": "execute_result"
    }
   ],
   "source": [
    "100* train.isnull().sum() / train.shape[0] #bunu bi kontrol et"
   ]
  },
  {
   "cell_type": "code",
   "execution_count": 18,
   "id": "e7c586e7",
   "metadata": {
    "execution": {
     "iopub.execute_input": "2024-10-05T13:56:50.507135Z",
     "iopub.status.busy": "2024-10-05T13:56:50.506344Z",
     "iopub.status.idle": "2024-10-05T13:56:50.518339Z",
     "shell.execute_reply": "2024-10-05T13:56:50.517332Z"
    },
    "papermill": {
     "duration": 0.026755,
     "end_time": "2024-10-05T13:56:50.520547",
     "exception": false,
     "start_time": "2024-10-05T13:56:50.493792",
     "status": "completed"
    },
    "tags": []
   },
   "outputs": [
    {
     "data": {
      "text/html": [
       "<div>\n",
       "<style scoped>\n",
       "    .dataframe tbody tr th:only-of-type {\n",
       "        vertical-align: middle;\n",
       "    }\n",
       "\n",
       "    .dataframe tbody tr th {\n",
       "        vertical-align: top;\n",
       "    }\n",
       "\n",
       "    .dataframe thead th {\n",
       "        text-align: right;\n",
       "    }\n",
       "</style>\n",
       "<table border=\"1\" class=\"dataframe\">\n",
       "  <thead>\n",
       "    <tr style=\"text-align: right;\">\n",
       "      <th></th>\n",
       "      <th>person_age</th>\n",
       "      <th>person_income</th>\n",
       "      <th>person_home_ownership</th>\n",
       "      <th>person_emp_length</th>\n",
       "      <th>loan_intent</th>\n",
       "      <th>loan_grade</th>\n",
       "      <th>loan_amnt</th>\n",
       "      <th>loan_int_rate</th>\n",
       "      <th>loan_percent_income</th>\n",
       "      <th>cb_person_default_on_file</th>\n",
       "      <th>cb_person_cred_hist_length</th>\n",
       "      <th>loan_status</th>\n",
       "      <th>person_income_loan_amnt_ratio</th>\n",
       "    </tr>\n",
       "  </thead>\n",
       "  <tbody>\n",
       "  </tbody>\n",
       "</table>\n",
       "</div>"
      ],
      "text/plain": [
       "Empty DataFrame\n",
       "Columns: [person_age, person_income, person_home_ownership, person_emp_length, loan_intent, loan_grade, loan_amnt, loan_int_rate, loan_percent_income, cb_person_default_on_file, cb_person_cred_hist_length, loan_status, person_income_loan_amnt_ratio]\n",
       "Index: []"
      ]
     },
     "execution_count": 18,
     "metadata": {},
     "output_type": "execute_result"
    }
   ],
   "source": [
    "train[train['person_emp_length'].isnull()]"
   ]
  },
  {
   "cell_type": "code",
   "execution_count": 19,
   "id": "acd1dd26",
   "metadata": {
    "execution": {
     "iopub.execute_input": "2024-10-05T13:56:50.546147Z",
     "iopub.status.busy": "2024-10-05T13:56:50.545792Z",
     "iopub.status.idle": "2024-10-05T13:56:50.572564Z",
     "shell.execute_reply": "2024-10-05T13:56:50.571562Z"
    },
    "papermill": {
     "duration": 0.041996,
     "end_time": "2024-10-05T13:56:50.574836",
     "exception": false,
     "start_time": "2024-10-05T13:56:50.532840",
     "status": "completed"
    },
    "tags": []
   },
   "outputs": [
    {
     "data": {
      "text/plain": [
       "id                               0.0\n",
       "person_age                       0.0\n",
       "person_income                    0.0\n",
       "person_home_ownership            0.0\n",
       "person_emp_length                0.0\n",
       "loan_intent                      0.0\n",
       "loan_grade                       0.0\n",
       "loan_amnt                        0.0\n",
       "loan_int_rate                    0.0\n",
       "loan_percent_income              0.0\n",
       "cb_person_default_on_file        0.0\n",
       "cb_person_cred_hist_length       0.0\n",
       "person_income_loan_amnt_ratio    0.0\n",
       "dtype: float64"
      ]
     },
     "execution_count": 19,
     "metadata": {},
     "output_type": "execute_result"
    }
   ],
   "source": [
    "100* test.isnull().sum() / test.shape[0]"
   ]
  },
  {
   "cell_type": "code",
   "execution_count": 20,
   "id": "44ef4409",
   "metadata": {
    "execution": {
     "iopub.execute_input": "2024-10-05T13:56:50.600501Z",
     "iopub.status.busy": "2024-10-05T13:56:50.600152Z",
     "iopub.status.idle": "2024-10-05T13:56:50.646322Z",
     "shell.execute_reply": "2024-10-05T13:56:50.645108Z"
    },
    "papermill": {
     "duration": 0.061575,
     "end_time": "2024-10-05T13:56:50.648753",
     "exception": false,
     "start_time": "2024-10-05T13:56:50.587178",
     "status": "completed"
    },
    "tags": []
   },
   "outputs": [
    {
     "name": "stdout",
     "output_type": "stream",
     "text": [
      "person_age: 58 unique values\n",
      "person_income: 4376 unique values\n",
      "person_home_ownership: 4 unique values\n",
      "person_emp_length: 38 unique values\n",
      "loan_intent: 6 unique values\n",
      "loan_grade: 7 unique values\n",
      "loan_amnt: 759 unique values\n",
      "loan_int_rate: 389 unique values\n",
      "loan_percent_income: 78 unique values\n",
      "cb_person_default_on_file: 2 unique values\n",
      "cb_person_cred_hist_length: 29 unique values\n",
      "loan_status: 2 unique values\n",
      "person_income_loan_amnt_ratio: 13510 unique values\n"
     ]
    }
   ],
   "source": [
    "columns = train.columns\n",
    "unique_values = {col: train[col].nunique() for col in columns} #Find number of unique values in each columns\n",
    "for col, unique_count in unique_values.items():\n",
    "    print(f\"{col}: {unique_count} unique values\")"
   ]
  },
  {
   "cell_type": "code",
   "execution_count": 21,
   "id": "02c5f6cc",
   "metadata": {
    "execution": {
     "iopub.execute_input": "2024-10-05T13:56:50.675651Z",
     "iopub.status.busy": "2024-10-05T13:56:50.674747Z",
     "iopub.status.idle": "2024-10-05T13:56:50.966604Z",
     "shell.execute_reply": "2024-10-05T13:56:50.965557Z"
    },
    "papermill": {
     "duration": 0.307937,
     "end_time": "2024-10-05T13:56:50.969142",
     "exception": false,
     "start_time": "2024-10-05T13:56:50.661205",
     "status": "completed"
    },
    "tags": []
   },
   "outputs": [
    {
     "data": {
      "image/png": "[encoded data removed]",
      "text/plain": [
       "<Figure size 640x480 with 1 Axes>"
      ]
     },
     "metadata": {},
     "output_type": "display_data"
    }
   ],
   "source": [
    "ax = round(train['loan_status'].value_counts(normalize=True), 2).plot(kind='barh', color='steelblue')\n",
    "ax.bar_label(ax.containers[0], label_type='edge')\n",
    "ax.margins(y=0.1)\n",
    "plt.xlabel('Percentage');"
   ]
  },
  {
   "cell_type": "code",
   "execution_count": 22,
   "id": "05a2df17",
   "metadata": {
    "execution": {
     "iopub.execute_input": "2024-10-05T13:56:50.996212Z",
     "iopub.status.busy": "2024-10-05T13:56:50.995782Z",
     "iopub.status.idle": "2024-10-05T13:56:51.005919Z",
     "shell.execute_reply": "2024-10-05T13:56:51.005071Z"
    },
    "papermill": {
     "duration": 0.026164,
     "end_time": "2024-10-05T13:56:51.008114",
     "exception": false,
     "start_time": "2024-10-05T13:56:50.981950",
     "status": "completed"
    },
    "tags": []
   },
   "outputs": [],
   "source": [
    "from sklearn.preprocessing import StandardScaler, LabelEncoder\n",
    "\n",
    "def pre_process_train(X):\n",
    "    label_encoders = {}\n",
    "    \n",
    "    # Identify numerical columns\n",
    "    numerical_cols = X.select_dtypes(include=['int64', 'float64']).columns\n",
    "    \n",
    "    # Scale all numerical columns at once\n",
    "    scaler = StandardScaler()\n",
    "    X[numerical_cols] = scaler.fit_transform(X[numerical_cols])\n",
    "    \n",
    "    # Encode categorical columns\n",
    "    for col in X.select_dtypes(include=['object']).columns:\n",
    "        #le = LabelEncoder()\n",
    "        #X[col] = le.fit_transform(X[col])\n",
    "        #label_encoders[col] = le  # Store the label encoders for future use\n",
    "        X[col] = X[col].astype('category')\n",
    "    \n",
    "    return X, scaler, label_encoders\n",
    "\n",
    "def pre_process_test(X_test, scaler, label_encoders):\n",
    "    # Ensure the test set has the same columns in the same order as the train set\n",
    "    #X_test = X_test.reindex(columns=X_train_columns, fill_value=0)\n",
    "    \n",
    "    # Identify numerical columns\n",
    "    numerical_cols = X_test.select_dtypes(include=['int64', 'float64']).columns\n",
    "    \n",
    "    # Scale all numerical columns using the previously fitted scaler\n",
    "    X_test[numerical_cols] = scaler.transform(X_test[numerical_cols])\n",
    "    \n",
    "    # Encode categorical columns using the previously fitted label encoders\n",
    "    for col in X_test.select_dtypes(include=['object']).columns:\n",
    "        #if col in label_encoders:  # Ensure that the column was encoded in training\n",
    "            #le = label_encoders[col]\n",
    "            #X_test[col] = le.transform(X_test[col])\n",
    "        X_test[col] = X_test[col].astype('category')\n",
    "    \n",
    "    return X_test\n",
    "\n"
   ]
  },
  {
   "cell_type": "code",
   "execution_count": 23,
   "id": "9514bcd1",
   "metadata": {
    "execution": {
     "iopub.execute_input": "2024-10-05T13:56:51.034701Z",
     "iopub.status.busy": "2024-10-05T13:56:51.034333Z",
     "iopub.status.idle": "2024-10-05T13:56:51.136377Z",
     "shell.execute_reply": "2024-10-05T13:56:51.135502Z"
    },
    "papermill": {
     "duration": 0.11828,
     "end_time": "2024-10-05T13:56:51.138982",
     "exception": false,
     "start_time": "2024-10-05T13:56:51.020702",
     "status": "completed"
    },
    "tags": []
   },
   "outputs": [],
   "source": [
    "ids= test['id']\n",
    "X = train.drop(columns=['loan_status'], axis=1)\n",
    "y = train.loan_status\n",
    "# Pre-process the training data\n",
    "X, scaler, label_encoders = pre_process_train(X)\n",
    "# Pre-process the test data using the scaler and label encoders from training\n",
    "test = test.drop('id', axis=1)\n",
    "test = pre_process_test(test, scaler, label_encoders)\n"
   ]
  },
  {
   "cell_type": "code",
   "execution_count": 24,
   "id": "48765105",
   "metadata": {
    "execution": {
     "iopub.execute_input": "2024-10-05T13:56:51.166818Z",
     "iopub.status.busy": "2024-10-05T13:56:51.166074Z",
     "iopub.status.idle": "2024-10-05T13:56:51.181754Z",
     "shell.execute_reply": "2024-10-05T13:56:51.180459Z"
    },
    "papermill": {
     "duration": 0.031875,
     "end_time": "2024-10-05T13:56:51.183809",
     "exception": false,
     "start_time": "2024-10-05T13:56:51.151934",
     "status": "completed"
    },
    "tags": []
   },
   "outputs": [
    {
     "name": "stdout",
     "output_type": "stream",
     "text": [
      "<class 'pandas.core.frame.DataFrame'>\n",
      "Index: 91061 entries, 0 to 32580\n",
      "Data columns (total 12 columns):\n",
      " #   Column                         Non-Null Count  Dtype   \n",
      "---  ------                         --------------  -----   \n",
      " 0   person_age                     91061 non-null  float64 \n",
      " 1   person_income                  91061 non-null  float64 \n",
      " 2   person_home_ownership          91061 non-null  category\n",
      " 3   person_emp_length              91061 non-null  float64 \n",
      " 4   loan_intent                    91061 non-null  category\n",
      " 5   loan_grade                     91061 non-null  category\n",
      " 6   loan_amnt                      91061 non-null  float64 \n",
      " 7   loan_int_rate                  91061 non-null  float64 \n",
      " 8   loan_percent_income            91061 non-null  float64 \n",
      " 9   cb_person_default_on_file      91061 non-null  category\n",
      " 10  cb_person_cred_hist_length     91061 non-null  float64 \n",
      " 11  person_income_loan_amnt_ratio  91061 non-null  float64 \n",
      "dtypes: category(4), float64(8)\n",
      "memory usage: 6.6 MB\n"
     ]
    }
   ],
   "source": [
    "X.info()"
   ]
  },
  {
   "cell_type": "code",
   "execution_count": 25,
   "id": "f6554155",
   "metadata": {
    "execution": {
     "iopub.execute_input": "2024-10-05T13:56:51.211077Z",
     "iopub.status.busy": "2024-10-05T13:56:51.210704Z",
     "iopub.status.idle": "2024-10-05T13:56:51.214910Z",
     "shell.execute_reply": "2024-10-05T13:56:51.213913Z"
    },
    "papermill": {
     "duration": 0.020181,
     "end_time": "2024-10-05T13:56:51.217047",
     "exception": false,
     "start_time": "2024-10-05T13:56:51.196866",
     "status": "completed"
    },
    "tags": []
   },
   "outputs": [],
   "source": [
    "#smote = SMOTE(random_state=42)\n",
    "#X_train_resampled, y_train_resampled = smote.fit_resample(X, y)"
   ]
  },
  {
   "cell_type": "code",
   "execution_count": 26,
   "id": "ae237d3c",
   "metadata": {
    "execution": {
     "iopub.execute_input": "2024-10-05T13:56:51.243659Z",
     "iopub.status.busy": "2024-10-05T13:56:51.242905Z",
     "iopub.status.idle": "2024-10-05T13:56:54.790098Z",
     "shell.execute_reply": "2024-10-05T13:56:54.789069Z"
    },
    "papermill": {
     "duration": 3.563449,
     "end_time": "2024-10-05T13:56:54.792935",
     "exception": false,
     "start_time": "2024-10-05T13:56:51.229486",
     "status": "completed"
    },
    "tags": []
   },
   "outputs": [
    {
     "name": "stdout",
     "output_type": "stream",
     "text": [
      "XGBoost CV f1 Scores: [0.82186821 0.82028986 0.82797253 0.8358209  0.82052205]\n",
      "XGBoost Mean CV f1: 0.8252947095341527\n",
      "XGBoost CV roc_auc Scores: [0.95342837 0.95451716 0.95575696 0.96000165 0.95593412]\n",
      "XGBoost Mean CV roc_auc: 0.9559276510906646\n",
      "XGBoost CV average_precision Scores: [0.88687705 0.88928256 0.89385873 0.89722224 0.89246264]\n",
      "XGBoost Mean CV average_precision: 0.8919406439939375\n",
      "XGBoost CV precision Scores: [0.9318555  0.93053843 0.93663123 0.92598425 0.92379408]\n",
      "XGBoost Mean CV precision: 0.9297606998522208\n",
      "XGBoost CV recall Scores: [0.73510363 0.73339812 0.74190415 0.76165803 0.73801813]\n",
      "XGBoost Mean CV recall: 0.7420164117954116\n",
      "XGBoost CV jaccard Scores: [0.69760295 0.6953317  0.70644465 0.71794872 0.69566545]\n",
      "XGBoost Mean CV jaccard: 0.7025986918352795\n"
     ]
    }
   ],
   "source": [
    "skf = StratifiedKFold(n_splits=5, shuffle=True, random_state=42)\n",
    "scores = ['f1',  'roc_auc', 'average_precision', 'precision', 'recall', 'jaccard']\n",
    "\n",
    "# Initialize XGBoost classifier\n",
    "xgb_model = XGBClassifier(enable_categorical = True)\n",
    "# Perform cross-validation\n",
    "xgb_cv_scores = cross_validate(xgb_model, X, y, cv=skf, scoring=scores)\n",
    "\n",
    "# Print the cross-validation accuracy scores\n",
    "for score in scores:\n",
    "    print(f\"XGBoost CV {score} Scores: {xgb_cv_scores['test_' + score]}\")\n",
    "    print(f\"XGBoost Mean CV {score}: {xgb_cv_scores['test_' + score].mean()}\")"
   ]
  },
  {
   "cell_type": "code",
   "execution_count": 27,
   "id": "07f69cce",
   "metadata": {
    "execution": {
     "iopub.execute_input": "2024-10-05T13:56:54.821489Z",
     "iopub.status.busy": "2024-10-05T13:56:54.821100Z",
     "iopub.status.idle": "2024-10-05T13:56:54.834404Z",
     "shell.execute_reply": "2024-10-05T13:56:54.833206Z"
    },
    "papermill": {
     "duration": 0.030728,
     "end_time": "2024-10-05T13:56:54.836601",
     "exception": false,
     "start_time": "2024-10-05T13:56:54.805873",
     "status": "completed"
    },
    "tags": []
   },
   "outputs": [
    {
     "name": "stdout",
     "output_type": "stream",
     "text": [
      "<class 'pandas.core.frame.DataFrame'>\n",
      "RangeIndex: 39098 entries, 0 to 39097\n",
      "Data columns (total 12 columns):\n",
      " #   Column                         Non-Null Count  Dtype   \n",
      "---  ------                         --------------  -----   \n",
      " 0   person_age                     39098 non-null  float64 \n",
      " 1   person_income                  39098 non-null  float64 \n",
      " 2   person_home_ownership          39098 non-null  category\n",
      " 3   person_emp_length              39098 non-null  float64 \n",
      " 4   loan_intent                    39098 non-null  category\n",
      " 5   loan_grade                     39098 non-null  category\n",
      " 6   loan_amnt                      39098 non-null  float64 \n",
      " 7   loan_int_rate                  39098 non-null  float64 \n",
      " 8   loan_percent_income            39098 non-null  float64 \n",
      " 9   cb_person_default_on_file      39098 non-null  category\n",
      " 10  cb_person_cred_hist_length     39098 non-null  float64 \n",
      " 11  person_income_loan_amnt_ratio  39098 non-null  float64 \n",
      "dtypes: category(4), float64(8)\n",
      "memory usage: 2.5 MB\n"
     ]
    }
   ],
   "source": [
    "test.info()"
   ]
  },
  {
   "cell_type": "code",
   "execution_count": 28,
   "id": "3899132b",
   "metadata": {
    "execution": {
     "iopub.execute_input": "2024-10-05T13:56:54.864232Z",
     "iopub.status.busy": "2024-10-05T13:56:54.863862Z",
     "iopub.status.idle": "2024-10-05T13:56:55.793363Z",
     "shell.execute_reply": "2024-10-05T13:56:55.792347Z"
    },
    "papermill": {
     "duration": 0.946384,
     "end_time": "2024-10-05T13:56:55.796054",
     "exception": false,
     "start_time": "2024-10-05T13:56:54.849670",
     "status": "completed"
    },
    "tags": []
   },
   "outputs": [],
   "source": [
    "\n",
    "xgb = XGBClassifier(enable_categorical = True) \n",
    "xgb.fit(X, y)\n",
    "y_pred_xgb = xgb.predict_proba(test)[:, 1]\n",
    "results_df_xgb = pd.DataFrame({\n",
    "    'id': ids,\n",
    "    'loan_status': y_pred_xgb\n",
    "})\n",
    "results_df_xgb.to_csv('baseline_sub_0_xgb.csv', index=False)"
   ]
  },
  {
   "cell_type": "code",
   "execution_count": 29,
   "id": "86854e58",
   "metadata": {
    "execution": {
     "iopub.execute_input": "2024-10-05T13:56:55.823154Z",
     "iopub.status.busy": "2024-10-05T13:56:55.822766Z",
     "iopub.status.idle": "2024-10-05T13:56:55.829881Z",
     "shell.execute_reply": "2024-10-05T13:56:55.828860Z"
    },
    "papermill": {
     "duration": 0.022685,
     "end_time": "2024-10-05T13:56:55.831953",
     "exception": false,
     "start_time": "2024-10-05T13:56:55.809268",
     "status": "completed"
    },
    "tags": []
   },
   "outputs": [
    {
     "data": {
      "text/plain": [
       "array([0.9987753 , 0.02177496, 0.37859446, ..., 0.00694771, 0.25006387,\n",
       "       0.969763  ], dtype=float32)"
      ]
     },
     "execution_count": 29,
     "metadata": {},
     "output_type": "execute_result"
    }
   ],
   "source": [
    "y_pred_xgb"
   ]
  },
  {
   "cell_type": "code",
   "execution_count": 30,
   "id": "856d496b",
   "metadata": {
    "execution": {
     "iopub.execute_input": "2024-10-05T13:56:55.858830Z",
     "iopub.status.busy": "2024-10-05T13:56:55.858503Z",
     "iopub.status.idle": "2024-10-05T13:56:57.589565Z",
     "shell.execute_reply": "2024-10-05T13:56:57.588342Z"
    },
    "papermill": {
     "duration": 1.7477,
     "end_time": "2024-10-05T13:56:57.592354",
     "exception": false,
     "start_time": "2024-10-05T13:56:55.844654",
     "status": "completed"
    },
    "tags": []
   },
   "outputs": [
    {
     "name": "stdout",
     "output_type": "stream",
     "text": [
      "[LightGBM] [Info] Number of positive: 15439, number of negative: 75622\n",
      "[LightGBM] [Info] Auto-choosing row-wise multi-threading, the overhead of testing was 0.007692 seconds.\n",
      "You can set `force_row_wise=true` to remove the overhead.\n",
      "And if memory is not enough, you can set `force_col_wise=true`.\n",
      "[LightGBM] [Info] Total Bins 1207\n",
      "[LightGBM] [Info] Number of data points in the train set: 91061, number of used features: 12\n",
      "[LightGBM] [Info] [binary:BoostFromScore]: pavg=0.169546 -> initscore=-1.588850\n",
      "[LightGBM] [Info] Start training from score -1.588850\n"
     ]
    }
   ],
   "source": [
    "lgbm_m = lgb.LGBMClassifier()\n",
    "lgbm_m.fit(X, y)\n",
    "y_pred_xgb = lgbm_m.predict_proba(test)[:, 1]\n",
    "results_df_xgb = pd.DataFrame({\n",
    "    'id': ids,\n",
    "    'loan_status': y_pred_xgb\n",
    "})\n",
    "results_df_xgb.to_csv('baseline_sub_0_lgbm.csv', index=False)"
   ]
  },
  {
   "cell_type": "code",
   "execution_count": 31,
   "id": "038ec958",
   "metadata": {
    "execution": {
     "iopub.execute_input": "2024-10-05T13:56:57.621625Z",
     "iopub.status.busy": "2024-10-05T13:56:57.620731Z",
     "iopub.status.idle": "2024-10-05T13:56:57.626615Z",
     "shell.execute_reply": "2024-10-05T13:56:57.625558Z"
    },
    "papermill": {
     "duration": 0.02287,
     "end_time": "2024-10-05T13:56:57.629049",
     "exception": false,
     "start_time": "2024-10-05T13:56:57.606179",
     "status": "completed"
    },
    "tags": []
   },
   "outputs": [],
   "source": [
    "cb_params = {'loss_function': 'Logloss',\n",
    "             'iterations': 195,\n",
    "             'learning_rate': 0.09381481508561976,\n",
    "             'depth': 11,\n",
    "             'bagging_temperature': 0.0850640366226123,\n",
    "             'l2_leaf_reg': 0,\n",
    "             'grow_policy': 'Lossguide',\n",
    "             'task_type': 'CPU'}"
   ]
  },
  {
   "cell_type": "code",
   "execution_count": 32,
   "id": "63873342",
   "metadata": {
    "execution": {
     "iopub.execute_input": "2024-10-05T13:56:57.657278Z",
     "iopub.status.busy": "2024-10-05T13:56:57.656845Z",
     "iopub.status.idle": "2024-10-05T13:57:08.836877Z",
     "shell.execute_reply": "2024-10-05T13:57:08.835717Z"
    },
    "papermill": {
     "duration": 11.197329,
     "end_time": "2024-10-05T13:57:08.839693",
     "exception": false,
     "start_time": "2024-10-05T13:56:57.642364",
     "status": "completed"
    },
    "tags": []
   },
   "outputs": [
    {
     "name": "stdout",
     "output_type": "stream",
     "text": [
      "0:\tlearn: 0.6250101\ttotal: 113ms\tremaining: 22s\n",
      "1:\tlearn: 0.5682407\ttotal: 148ms\tremaining: 14.2s\n",
      "2:\tlearn: 0.5193534\ttotal: 187ms\tremaining: 12s\n",
      "3:\tlearn: 0.4786096\ttotal: 225ms\tremaining: 10.7s\n",
      "4:\tlearn: 0.4443646\ttotal: 257ms\tremaining: 9.76s\n",
      "5:\tlearn: 0.4128189\ttotal: 297ms\tremaining: 9.35s\n",
      "6:\tlearn: 0.3862379\ttotal: 348ms\tremaining: 9.36s\n",
      "7:\tlearn: 0.3638138\ttotal: 386ms\tremaining: 9.02s\n",
      "8:\tlearn: 0.3447791\ttotal: 418ms\tremaining: 8.64s\n",
      "9:\tlearn: 0.3281839\ttotal: 452ms\tremaining: 8.36s\n",
      "10:\tlearn: 0.3127702\ttotal: 490ms\tremaining: 8.19s\n",
      "11:\tlearn: 0.2995073\ttotal: 528ms\tremaining: 8.06s\n",
      "12:\tlearn: 0.2872861\ttotal: 575ms\tremaining: 8.04s\n",
      "13:\tlearn: 0.2769518\ttotal: 614ms\tremaining: 7.94s\n",
      "14:\tlearn: 0.2682757\ttotal: 651ms\tremaining: 7.81s\n",
      "15:\tlearn: 0.2593455\ttotal: 693ms\tremaining: 7.75s\n",
      "16:\tlearn: 0.2522134\ttotal: 734ms\tremaining: 7.68s\n",
      "17:\tlearn: 0.2459252\ttotal: 771ms\tremaining: 7.58s\n",
      "18:\tlearn: 0.2405912\ttotal: 807ms\tremaining: 7.48s\n",
      "19:\tlearn: 0.2351548\ttotal: 849ms\tremaining: 7.42s\n",
      "20:\tlearn: 0.2298570\ttotal: 896ms\tremaining: 7.42s\n",
      "21:\tlearn: 0.2256684\ttotal: 938ms\tremaining: 7.37s\n",
      "22:\tlearn: 0.2210592\ttotal: 985ms\tremaining: 7.37s\n",
      "23:\tlearn: 0.2176329\ttotal: 1.03s\tremaining: 7.32s\n",
      "24:\tlearn: 0.2142243\ttotal: 1.07s\tremaining: 7.29s\n",
      "25:\tlearn: 0.2114702\ttotal: 1.11s\tremaining: 7.23s\n",
      "26:\tlearn: 0.2085974\ttotal: 1.15s\tremaining: 7.18s\n",
      "27:\tlearn: 0.2061906\ttotal: 1.2s\tremaining: 7.14s\n",
      "28:\tlearn: 0.2036132\ttotal: 1.25s\tremaining: 7.17s\n",
      "29:\tlearn: 0.2015391\ttotal: 1.3s\tremaining: 7.16s\n",
      "30:\tlearn: 0.1996709\ttotal: 1.35s\tremaining: 7.13s\n",
      "31:\tlearn: 0.1982287\ttotal: 1.39s\tremaining: 7.08s\n",
      "32:\tlearn: 0.1965601\ttotal: 1.43s\tremaining: 7.03s\n",
      "33:\tlearn: 0.1949897\ttotal: 1.48s\tremaining: 7.01s\n",
      "34:\tlearn: 0.1937578\ttotal: 1.53s\tremaining: 7s\n",
      "35:\tlearn: 0.1922781\ttotal: 1.58s\tremaining: 6.98s\n",
      "36:\tlearn: 0.1912673\ttotal: 1.62s\tremaining: 6.92s\n",
      "37:\tlearn: 0.1902355\ttotal: 1.67s\tremaining: 6.9s\n",
      "38:\tlearn: 0.1891350\ttotal: 1.72s\tremaining: 6.88s\n",
      "39:\tlearn: 0.1880869\ttotal: 1.77s\tremaining: 6.87s\n",
      "40:\tlearn: 0.1868687\ttotal: 1.83s\tremaining: 6.87s\n",
      "41:\tlearn: 0.1860735\ttotal: 1.87s\tremaining: 6.82s\n",
      "42:\tlearn: 0.1850090\ttotal: 1.93s\tremaining: 6.82s\n",
      "43:\tlearn: 0.1843419\ttotal: 1.98s\tremaining: 6.79s\n",
      "44:\tlearn: 0.1835083\ttotal: 2.03s\tremaining: 6.75s\n",
      "45:\tlearn: 0.1828546\ttotal: 2.07s\tremaining: 6.69s\n",
      "46:\tlearn: 0.1817027\ttotal: 2.12s\tremaining: 6.69s\n",
      "47:\tlearn: 0.1808975\ttotal: 2.18s\tremaining: 6.68s\n",
      "48:\tlearn: 0.1803650\ttotal: 2.24s\tremaining: 6.67s\n",
      "49:\tlearn: 0.1791910\ttotal: 2.31s\tremaining: 6.69s\n",
      "50:\tlearn: 0.1786666\ttotal: 2.35s\tremaining: 6.64s\n",
      "51:\tlearn: 0.1781871\ttotal: 2.41s\tremaining: 6.64s\n",
      "52:\tlearn: 0.1776523\ttotal: 2.46s\tremaining: 6.6s\n",
      "53:\tlearn: 0.1770836\ttotal: 2.52s\tremaining: 6.57s\n",
      "54:\tlearn: 0.1767797\ttotal: 2.56s\tremaining: 6.51s\n",
      "55:\tlearn: 0.1762890\ttotal: 2.61s\tremaining: 6.48s\n",
      "56:\tlearn: 0.1756205\ttotal: 2.67s\tremaining: 6.46s\n",
      "57:\tlearn: 0.1750639\ttotal: 2.73s\tremaining: 6.44s\n",
      "58:\tlearn: 0.1744314\ttotal: 2.79s\tremaining: 6.43s\n",
      "59:\tlearn: 0.1737720\ttotal: 2.86s\tremaining: 6.43s\n",
      "60:\tlearn: 0.1733218\ttotal: 2.92s\tremaining: 6.42s\n",
      "61:\tlearn: 0.1727304\ttotal: 2.98s\tremaining: 6.4s\n",
      "62:\tlearn: 0.1725099\ttotal: 3.02s\tremaining: 6.33s\n",
      "63:\tlearn: 0.1720413\ttotal: 3.07s\tremaining: 6.29s\n",
      "64:\tlearn: 0.1716657\ttotal: 3.13s\tremaining: 6.26s\n",
      "65:\tlearn: 0.1712926\ttotal: 3.18s\tremaining: 6.22s\n",
      "66:\tlearn: 0.1710814\ttotal: 3.23s\tremaining: 6.16s\n",
      "67:\tlearn: 0.1708482\ttotal: 3.27s\tremaining: 6.1s\n",
      "68:\tlearn: 0.1703792\ttotal: 3.34s\tremaining: 6.1s\n",
      "69:\tlearn: 0.1700122\ttotal: 3.4s\tremaining: 6.08s\n",
      "70:\tlearn: 0.1697284\ttotal: 3.46s\tremaining: 6.05s\n",
      "71:\tlearn: 0.1693087\ttotal: 3.53s\tremaining: 6.03s\n",
      "72:\tlearn: 0.1691017\ttotal: 3.58s\tremaining: 5.99s\n",
      "73:\tlearn: 0.1689374\ttotal: 3.63s\tremaining: 5.94s\n",
      "74:\tlearn: 0.1687929\ttotal: 3.71s\tremaining: 5.94s\n",
      "75:\tlearn: 0.1685321\ttotal: 3.75s\tremaining: 5.87s\n",
      "76:\tlearn: 0.1680326\ttotal: 3.81s\tremaining: 5.84s\n",
      "77:\tlearn: 0.1678488\ttotal: 3.87s\tremaining: 5.81s\n",
      "78:\tlearn: 0.1675596\ttotal: 3.92s\tremaining: 5.76s\n",
      "79:\tlearn: 0.1673355\ttotal: 3.97s\tremaining: 5.71s\n",
      "80:\tlearn: 0.1671679\ttotal: 4.02s\tremaining: 5.65s\n",
      "81:\tlearn: 0.1670302\ttotal: 4.07s\tremaining: 5.61s\n",
      "82:\tlearn: 0.1665841\ttotal: 4.13s\tremaining: 5.57s\n",
      "83:\tlearn: 0.1664432\ttotal: 4.2s\tremaining: 5.55s\n",
      "84:\tlearn: 0.1657051\ttotal: 4.26s\tremaining: 5.51s\n",
      "85:\tlearn: 0.1654757\ttotal: 4.32s\tremaining: 5.47s\n",
      "86:\tlearn: 0.1653057\ttotal: 4.37s\tremaining: 5.42s\n",
      "87:\tlearn: 0.1651566\ttotal: 4.4s\tremaining: 5.35s\n",
      "88:\tlearn: 0.1646404\ttotal: 4.46s\tremaining: 5.31s\n",
      "89:\tlearn: 0.1643849\ttotal: 4.5s\tremaining: 5.25s\n",
      "90:\tlearn: 0.1642633\ttotal: 4.56s\tremaining: 5.21s\n",
      "91:\tlearn: 0.1641203\ttotal: 4.61s\tremaining: 5.16s\n",
      "92:\tlearn: 0.1639316\ttotal: 4.66s\tremaining: 5.11s\n",
      "93:\tlearn: 0.1636652\ttotal: 4.71s\tremaining: 5.07s\n",
      "94:\tlearn: 0.1632441\ttotal: 4.77s\tremaining: 5.02s\n",
      "95:\tlearn: 0.1630989\ttotal: 4.81s\tremaining: 4.96s\n",
      "96:\tlearn: 0.1629149\ttotal: 4.86s\tremaining: 4.91s\n",
      "97:\tlearn: 0.1627318\ttotal: 4.9s\tremaining: 4.85s\n",
      "98:\tlearn: 0.1624786\ttotal: 4.95s\tremaining: 4.8s\n",
      "99:\tlearn: 0.1622373\ttotal: 5s\tremaining: 4.75s\n",
      "100:\tlearn: 0.1620495\ttotal: 5.07s\tremaining: 4.71s\n",
      "101:\tlearn: 0.1618602\ttotal: 5.11s\tremaining: 4.66s\n",
      "102:\tlearn: 0.1614254\ttotal: 5.19s\tremaining: 4.63s\n",
      "103:\tlearn: 0.1612441\ttotal: 5.26s\tremaining: 4.6s\n",
      "104:\tlearn: 0.1606896\ttotal: 5.33s\tremaining: 4.57s\n",
      "105:\tlearn: 0.1601019\ttotal: 5.39s\tremaining: 4.53s\n",
      "106:\tlearn: 0.1599066\ttotal: 5.46s\tremaining: 4.49s\n",
      "107:\tlearn: 0.1597704\ttotal: 5.51s\tremaining: 4.44s\n",
      "108:\tlearn: 0.1595119\ttotal: 5.58s\tremaining: 4.4s\n",
      "109:\tlearn: 0.1592154\ttotal: 5.63s\tremaining: 4.35s\n",
      "110:\tlearn: 0.1590647\ttotal: 5.68s\tremaining: 4.3s\n",
      "111:\tlearn: 0.1589393\ttotal: 5.73s\tremaining: 4.24s\n",
      "112:\tlearn: 0.1587994\ttotal: 5.77s\tremaining: 4.18s\n",
      "113:\tlearn: 0.1585939\ttotal: 5.81s\tremaining: 4.13s\n",
      "114:\tlearn: 0.1580654\ttotal: 5.88s\tremaining: 4.09s\n",
      "115:\tlearn: 0.1579477\ttotal: 5.93s\tremaining: 4.04s\n",
      "116:\tlearn: 0.1576607\ttotal: 5.99s\tremaining: 3.99s\n",
      "117:\tlearn: 0.1573432\ttotal: 6.06s\tremaining: 3.95s\n",
      "118:\tlearn: 0.1568841\ttotal: 6.13s\tremaining: 3.91s\n",
      "119:\tlearn: 0.1566710\ttotal: 6.17s\tremaining: 3.86s\n",
      "120:\tlearn: 0.1563660\ttotal: 6.25s\tremaining: 3.82s\n",
      "121:\tlearn: 0.1562192\ttotal: 6.29s\tremaining: 3.76s\n",
      "122:\tlearn: 0.1560384\ttotal: 6.35s\tremaining: 3.72s\n",
      "123:\tlearn: 0.1558440\ttotal: 6.39s\tremaining: 3.66s\n",
      "124:\tlearn: 0.1557108\ttotal: 6.42s\tremaining: 3.59s\n",
      "125:\tlearn: 0.1555581\ttotal: 6.48s\tremaining: 3.55s\n",
      "126:\tlearn: 0.1554316\ttotal: 6.55s\tremaining: 3.51s\n",
      "127:\tlearn: 0.1552056\ttotal: 6.6s\tremaining: 3.45s\n",
      "128:\tlearn: 0.1549094\ttotal: 6.68s\tremaining: 3.42s\n",
      "129:\tlearn: 0.1547493\ttotal: 6.75s\tremaining: 3.38s\n",
      "130:\tlearn: 0.1545780\ttotal: 6.78s\tremaining: 3.31s\n",
      "131:\tlearn: 0.1544160\ttotal: 6.84s\tremaining: 3.27s\n",
      "132:\tlearn: 0.1542442\ttotal: 6.88s\tremaining: 3.21s\n",
      "133:\tlearn: 0.1541108\ttotal: 6.97s\tremaining: 3.17s\n",
      "134:\tlearn: 0.1537922\ttotal: 7.03s\tremaining: 3.13s\n",
      "135:\tlearn: 0.1534846\ttotal: 7.1s\tremaining: 3.08s\n",
      "136:\tlearn: 0.1532277\ttotal: 7.14s\tremaining: 3.02s\n",
      "137:\tlearn: 0.1530608\ttotal: 7.18s\tremaining: 2.97s\n",
      "138:\tlearn: 0.1529363\ttotal: 7.23s\tremaining: 2.91s\n",
      "139:\tlearn: 0.1527618\ttotal: 7.31s\tremaining: 2.87s\n",
      "140:\tlearn: 0.1526285\ttotal: 7.39s\tremaining: 2.83s\n",
      "141:\tlearn: 0.1524972\ttotal: 7.46s\tremaining: 2.78s\n",
      "142:\tlearn: 0.1520160\ttotal: 7.54s\tremaining: 2.74s\n",
      "143:\tlearn: 0.1519289\ttotal: 7.61s\tremaining: 2.69s\n",
      "144:\tlearn: 0.1517969\ttotal: 7.69s\tremaining: 2.65s\n",
      "145:\tlearn: 0.1516859\ttotal: 7.76s\tremaining: 2.6s\n",
      "146:\tlearn: 0.1515057\ttotal: 7.84s\tremaining: 2.56s\n",
      "147:\tlearn: 0.1513192\ttotal: 7.89s\tremaining: 2.51s\n",
      "148:\tlearn: 0.1510784\ttotal: 7.96s\tremaining: 2.46s\n",
      "149:\tlearn: 0.1509753\ttotal: 8.01s\tremaining: 2.4s\n",
      "150:\tlearn: 0.1508667\ttotal: 8.07s\tremaining: 2.35s\n",
      "151:\tlearn: 0.1506993\ttotal: 8.13s\tremaining: 2.3s\n",
      "152:\tlearn: 0.1503832\ttotal: 8.2s\tremaining: 2.25s\n",
      "153:\tlearn: 0.1502812\ttotal: 8.28s\tremaining: 2.2s\n",
      "154:\tlearn: 0.1499580\ttotal: 8.33s\tremaining: 2.15s\n",
      "155:\tlearn: 0.1497286\ttotal: 8.39s\tremaining: 2.1s\n",
      "156:\tlearn: 0.1495622\ttotal: 8.45s\tremaining: 2.04s\n",
      "157:\tlearn: 0.1493393\ttotal: 8.49s\tremaining: 1.99s\n",
      "158:\tlearn: 0.1489775\ttotal: 8.56s\tremaining: 1.94s\n",
      "159:\tlearn: 0.1487831\ttotal: 8.62s\tremaining: 1.88s\n",
      "160:\tlearn: 0.1485872\ttotal: 8.67s\tremaining: 1.83s\n",
      "161:\tlearn: 0.1484175\ttotal: 8.71s\tremaining: 1.77s\n",
      "162:\tlearn: 0.1482550\ttotal: 8.77s\tremaining: 1.72s\n",
      "163:\tlearn: 0.1479824\ttotal: 8.82s\tremaining: 1.67s\n",
      "164:\tlearn: 0.1478477\ttotal: 8.89s\tremaining: 1.62s\n",
      "165:\tlearn: 0.1477533\ttotal: 8.95s\tremaining: 1.56s\n",
      "166:\tlearn: 0.1475869\ttotal: 9s\tremaining: 1.51s\n",
      "167:\tlearn: 0.1474996\ttotal: 9.05s\tremaining: 1.46s\n",
      "168:\tlearn: 0.1474074\ttotal: 9.1s\tremaining: 1.4s\n",
      "169:\tlearn: 0.1469871\ttotal: 9.18s\tremaining: 1.35s\n",
      "170:\tlearn: 0.1467930\ttotal: 9.25s\tremaining: 1.3s\n",
      "171:\tlearn: 0.1465413\ttotal: 9.3s\tremaining: 1.24s\n",
      "172:\tlearn: 0.1463323\ttotal: 9.35s\tremaining: 1.19s\n",
      "173:\tlearn: 0.1462126\ttotal: 9.41s\tremaining: 1.14s\n",
      "174:\tlearn: 0.1460721\ttotal: 9.46s\tremaining: 1.08s\n",
      "175:\tlearn: 0.1459124\ttotal: 9.51s\tremaining: 1.03s\n",
      "176:\tlearn: 0.1458176\ttotal: 9.57s\tremaining: 974ms\n",
      "177:\tlearn: 0.1456925\ttotal: 9.61s\tremaining: 917ms\n",
      "178:\tlearn: 0.1455750\ttotal: 9.66s\tremaining: 864ms\n",
      "179:\tlearn: 0.1453983\ttotal: 9.72s\tremaining: 810ms\n",
      "180:\tlearn: 0.1451841\ttotal: 9.79s\tremaining: 757ms\n",
      "181:\tlearn: 0.1450189\ttotal: 9.85s\tremaining: 704ms\n",
      "182:\tlearn: 0.1449135\ttotal: 9.92s\tremaining: 650ms\n",
      "183:\tlearn: 0.1448659\ttotal: 9.99s\tremaining: 598ms\n",
      "184:\tlearn: 0.1447364\ttotal: 10s\tremaining: 543ms\n",
      "185:\tlearn: 0.1446557\ttotal: 10.1s\tremaining: 488ms\n",
      "186:\tlearn: 0.1444798\ttotal: 10.1s\tremaining: 434ms\n",
      "187:\tlearn: 0.1443161\ttotal: 10.2s\tremaining: 379ms\n",
      "188:\tlearn: 0.1441322\ttotal: 10.3s\tremaining: 325ms\n",
      "189:\tlearn: 0.1440159\ttotal: 10.3s\tremaining: 272ms\n",
      "190:\tlearn: 0.1438613\ttotal: 10.4s\tremaining: 218ms\n",
      "191:\tlearn: 0.1437713\ttotal: 10.4s\tremaining: 163ms\n",
      "192:\tlearn: 0.1436097\ttotal: 10.5s\tremaining: 109ms\n",
      "193:\tlearn: 0.1434804\ttotal: 10.5s\tremaining: 54.3ms\n",
      "194:\tlearn: 0.1433138\ttotal: 10.6s\tremaining: 0us\n"
     ]
    }
   ],
   "source": [
    "cat_columns = X.select_dtypes(include=['category']).columns.tolist()\n",
    "train_data = cat.Pool(X, label=y, cat_features=cat_columns)\n",
    "cat_m = cat.CatBoostClassifier(**cb_params)\n",
    "cat_m.fit(train_data)\n",
    "y_pred_xgb = cat_m.predict_proba(test)[:, 1]\n",
    "results_df_xgb = pd.DataFrame({\n",
    "    'id': ids,\n",
    "    'loan_status': y_pred_xgb\n",
    "})\n",
    "results_df_xgb.to_csv('baseline_sub_0_cat.csv', index=False)"
   ]
  },
  {
   "cell_type": "code",
   "execution_count": 33,
   "id": "2b71c6d8",
   "metadata": {
    "execution": {
     "iopub.execute_input": "2024-10-05T13:57:08.877983Z",
     "iopub.status.busy": "2024-10-05T13:57:08.877272Z",
     "iopub.status.idle": "2024-10-05T13:57:09.213048Z",
     "shell.execute_reply": "2024-10-05T13:57:09.211891Z"
    },
    "papermill": {
     "duration": 0.357229,
     "end_time": "2024-10-05T13:57:09.215351",
     "exception": false,
     "start_time": "2024-10-05T13:57:08.858122",
     "status": "completed"
    },
    "tags": []
   },
   "outputs": [
    {
     "data": {
      "image/png": "[encoded data removed]",
      "text/plain": [
       "<Figure size 1000x600 with 1 Axes>"
      ]
     },
     "metadata": {},
     "output_type": "display_data"
    }
   ],
   "source": [
    "feature_importance = pd.DataFrame({\n",
    "    'feature': X.columns,\n",
    "    'importance': cat_m.get_feature_importance()\n",
    "})\n",
    "\n",
    "# Sort by importance\n",
    "feature_importance = feature_importance.sort_values(by='importance', ascending=False)\n",
    "\n",
    "# Plot feature importance\n",
    "plt.figure(figsize=(10, 6))\n",
    "plt.barh(feature_importance['feature'], feature_importance['importance'])\n",
    "plt.xlabel('Feature Importance')\n",
    "plt.title('Feature Importance from CatBoost')\n",
    "plt.show()"
   ]
  },
  {
   "cell_type": "code",
   "execution_count": 34,
   "id": "884472bd",
   "metadata": {
    "execution": {
     "iopub.execute_input": "2024-10-05T13:57:09.253929Z",
     "iopub.status.busy": "2024-10-05T13:57:09.253478Z",
     "iopub.status.idle": "2024-10-05T13:57:09.258628Z",
     "shell.execute_reply": "2024-10-05T13:57:09.257615Z"
    },
    "papermill": {
     "duration": 0.027169,
     "end_time": "2024-10-05T13:57:09.260912",
     "exception": false,
     "start_time": "2024-10-05T13:57:09.233743",
     "status": "completed"
    },
    "tags": []
   },
   "outputs": [],
   "source": [
    "import shap\n",
    "\n",
    "### SHAP Values\n",
    "\n",
    "# Convert the test data to a Pool object\n",
    "#test_pool = cat.Pool(X, cat_features=cat_columns)\n",
    "\n",
    "# Calculate SHAP values\n",
    "#shap_values = cat_m.get_feature_importance(type='ShapValues', data=test_pool)\n",
    "\n",
    "# SHAP values include the expected value as the first column, remove it for plotting\n",
    "#shap_values = shap_values[:, :-1]\n",
    "\n",
    "# Plot SHAP summary\n",
    "#shap.summary_plot(shap_values, X)\n",
    "\n",
    "# Plot SHAP force plot for an individual prediction (e.g., the first test sample)\n",
    "#shap.force_plot(shap_values[0, :-1], X.iloc[0, :])"
   ]
  }
 ],
 "metadata": {
  "kaggle": {
   "accelerator": "none",
   "dataSources": [
    {
     "databundleVersionId": 9709193,
     "sourceId": 84894,
     "sourceType": "competition"
    },
    {
     "datasetId": 4675026,
     "sourceId": 7949759,
     "sourceType": "datasetVersion"
    }
   ],
   "dockerImageVersionId": 30775,
   "isGpuEnabled": false,
   "isInternetEnabled": true,
   "language": "python",
   "sourceType": "notebook"
  },
  "kernelspec": {
   "display_name": "Python 3",
   "language": "python",
   "name": "python3"
  },
  "language_info": {
   "codemirror_mode": {
    "name": "ipython",
    "version": 3
   },
   "file_extension": ".py",
   "mimetype": "text/x-python",
   "name": "python",
   "nbconvert_exporter": "python",
   "pygments_lexer": "ipython3",
   "version": "3.10.14"
  },
  "papermill": {
   "default_parameters": {},
   "duration": 32.723084,
   "end_time": "2024-10-05T13:57:10.501082",
   "environment_variables": {},
   "exception": null,
   "input_path": "__notebook__.ipynb",
   "output_path": "__notebook__.ipynb",
   "parameters": {},
   "start_time": "2024-10-05T13:56:37.777998",
   "version": "2.6.0"
  }
 },
 "nbformat": 4,
 "nbformat_minor": 5
}
